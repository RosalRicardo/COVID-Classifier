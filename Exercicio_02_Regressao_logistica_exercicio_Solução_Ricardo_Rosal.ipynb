{
  "nbformat": 4,
  "nbformat_minor": 0,
  "metadata": {
    "kernelspec": {
      "display_name": "Python 3",
      "language": "python",
      "name": "python3"
    },
    "language_info": {
      "codemirror_mode": {
        "name": "ipython",
        "version": 3
      },
      "file_extension": ".py",
      "mimetype": "text/x-python",
      "name": "python",
      "nbconvert_exporter": "python",
      "pygments_lexer": "ipython3",
      "version": "3.6.7"
    },
    "varInspector": {
      "cols": {
        "lenName": 16,
        "lenType": 16,
        "lenVar": 40
      },
      "kernels_config": {
        "python": {
          "delete_cmd_postfix": "",
          "delete_cmd_prefix": "del ",
          "library": "var_list.py",
          "varRefreshCmd": "print(var_dic_list())"
        },
        "r": {
          "delete_cmd_postfix": ") ",
          "delete_cmd_prefix": "rm(",
          "library": "var_list.r",
          "varRefreshCmd": "cat(var_dic_list()) "
        }
      },
      "position": {
        "height": "350px",
        "left": "929px",
        "right": "20px",
        "top": "130px",
        "width": "350px"
      },
      "types_to_exclude": [
        "module",
        "function",
        "builtin_function_or_method",
        "instance",
        "_Feature"
      ],
      "window_display": false
    },
    "colab": {
      "name": "Exercicio 02 - Regressao_logistica_exercicio - Solução Ricardo Rosal.ipynb",
      "provenance": [],
      "collapsed_sections": [],
      "include_colab_link": true
    }
  },
  "cells": [
    {
      "cell_type": "markdown",
      "metadata": {
        "id": "view-in-github",
        "colab_type": "text"
      },
      "source": [
        "<a href=\"https://colab.research.google.com/github/RosalRicardo/COVID-Classifier/blob/main/Exercicio_02_Regressao_logistica_exercicio_Solu%C3%A7%C3%A3o_Ricardo_Rosal.ipynb\" target=\"_parent\"><img src=\"https://colab.research.google.com/assets/colab-badge.svg\" alt=\"Open In Colab\"/></a>"
      ]
    },
    {
      "cell_type": "markdown",
      "metadata": {
        "id": "I_cEf-rwTpxV"
      },
      "source": [
        "# Exercícios programa - Regressão logística\n",
        "\n",
        "Implemente o algoritmo gradiente descendente para regressão logística e aplique seu algoritmo para o conjunto de dados dados3.csv.\n",
        "\n"
      ]
    },
    {
      "cell_type": "markdown",
      "metadata": {
        "id": "--feSsQ4TpxZ"
      },
      "source": [
        "### Carregando bibliotecas principais"
      ]
    },
    {
      "cell_type": "code",
      "metadata": {
        "ExecuteTime": {
          "end_time": "2018-08-09T05:45:02.479472Z",
          "start_time": "2018-08-09T05:45:02.202168Z"
        },
        "id": "odEvGOnBTpxa"
      },
      "source": [
        "# carregando bibliotecas\n",
        "import numpy as np\n",
        "import pandas as pd\n",
        "import matplotlib.patches as mpatches\n",
        "import matplotlib.pyplot as plt\n",
        "from IPython.display import HTML\n",
        "from matplotlib.colors import ListedColormap"
      ],
      "execution_count": null,
      "outputs": []
    },
    {
      "cell_type": "markdown",
      "metadata": {
        "id": "bBKBex6STpxb"
      },
      "source": [
        "## Exercicíos: Implemente as seguintes funções: `sigmoid` e `funcaoCusto`"
      ]
    },
    {
      "cell_type": "markdown",
      "metadata": {
        "id": "uRlWHgzBTpxb"
      },
      "source": [
        "Para facilitar, seguem algumas funções e definições matemáticas básicas que podem auxiliar no desenvolvimento. \n",
        "\n",
        "> Função de normalização `zscore`"
      ]
    },
    {
      "cell_type": "markdown",
      "metadata": {
        "id": "tClHvNVoTpxc"
      },
      "source": [
        "<font>$$\\mbox{zscore}(x^{(i)})=\\frac{x^{(i)}-\\mu(x^{(i)}_j)}{\\sigma(x^{(i)}_j)} $$</font>"
      ]
    },
    {
      "cell_type": "code",
      "metadata": {
        "id": "b8mmQtbITpxc"
      },
      "source": [
        "#\n",
        "# Calculo da normalização zscore\n",
        "#\n",
        "# X    = conjunto de características\n",
        "# mean = média das colunas\n",
        "# std  = desvio padrão das colunas\n",
        "#\n",
        "def zscore(X, mean=None, std=None):        \n",
        "    if mean is None:\n",
        "        mean = np.mean(X[:, 1:], axis=0) \n",
        "    if std is None:\n",
        "        std = np.std(X[:, 1:], axis=0) \n",
        "    X[:, 1:]=(X[:, 1:]-mean)/(std)\n",
        "    return (X, mean, std)"
      ],
      "execution_count": null,
      "outputs": []
    },
    {
      "cell_type": "markdown",
      "metadata": {
        "id": "A5QlTwgqTpxd"
      },
      "source": [
        "> **Exercício**: Implementar a função `sigmoid`\n",
        "\n",
        "<font size=2>$$ \\mbox{sigmoid}(z)=\\frac{1}{1+e^{-z}} $$</font>"
      ]
    },
    {
      "cell_type": "code",
      "metadata": {
        "id": "SogOd7iUTpxd"
      },
      "source": [
        "#\n",
        "# Função sigmóide = função logística\n",
        "# \n",
        "# z = vetor de valores (nosso caso $\\theta^T X$)\n",
        "#\n",
        "def sigmoid(z):\n",
        "    out = 0\n",
        "\n",
        "    #adicione seu código\n",
        "    out = 1 / (1 + np.exp(-z))\n",
        "    return out"
      ],
      "execution_count": null,
      "outputs": []
    },
    {
      "cell_type": "markdown",
      "metadata": {
        "id": "4KSbAi91Tpxe"
      },
      "source": [
        "> Função hipótese\n",
        "<font size=2>$$ \\mbox{hipotese}(x, \\theta)=\\mbox{sigmoid}(\\theta^Tx) $$</font>"
      ]
    },
    {
      "cell_type": "code",
      "metadata": {
        "id": "zMA8bNmvTpxe"
      },
      "source": [
        "#\n",
        "# Hipótese da regressão logística\n",
        "#\n",
        "# X      = conjunto de características\n",
        "# thetas = vetor de pesos\n",
        "#\n",
        "def hipotese(X, thetas):\n",
        "    return sigmoid( X.dot(thetas) )"
      ],
      "execution_count": null,
      "outputs": []
    },
    {
      "cell_type": "markdown",
      "metadata": {
        "id": "C30ilxxGTpxf"
      },
      "source": [
        "> **Exercício**: Implemente a função de custo\n",
        "\n"
      ]
    },
    {
      "cell_type": "markdown",
      "metadata": {
        "id": "FPHQE4IzTpxf"
      },
      "source": [
        "<font size=2>$$\\mbox{funcaoCusto}(X, Y, m, \\theta)=-\\frac{1}{m}\\sum_{i=1}^m y^{(i)}\\log(\\mbox{hipotese}(x^{(i)}, \\theta)) + (1-y^{(i)})\\log(1-\\mbox{hipotese}(x^{(i)}, \\theta)) $$</font> "
      ]
    },
    {
      "cell_type": "code",
      "metadata": {
        "id": "r-AIkIGETpxg"
      },
      "source": [
        "#\n",
        "# Função custo\n",
        "#\n",
        "# X      = conjunto de características\n",
        "# Y      = rótulos\n",
        "# m      = quantidade de linhas de X\n",
        "# thetas = vetor de pesos\n",
        "#\n",
        "def funcaoCusto(X, Y, m, thetas):\n",
        "    custo = 0\n",
        "    \n",
        "    # adicione seu código\n",
        "    m = np.size(X,axis=0)\n",
        "    BCE = Y.dot(np.log(hipotese(X,thetas)))+(1-Y).dot(np.log(1-hipotese(X,thetas)))\n",
        "    custo = -(1/m)*BCE\n",
        "    return custo\n",
        "    "
      ],
      "execution_count": null,
      "outputs": []
    },
    {
      "cell_type": "markdown",
      "metadata": {
        "id": "83k0RKF2HyUv"
      },
      "source": [
        "> Teste sua implementação com o código abaixo"
      ]
    },
    {
      "cell_type": "code",
      "metadata": {
        "id": "IVxgS0VsHw5l",
        "colab": {
          "base_uri": "https://localhost:8080/"
        },
        "outputId": "fa472a88-ed74-487c-e7bc-36e9e8976149"
      },
      "source": [
        "# conjunto de dados\n",
        "X =  np.array([\n",
        "       [ 1.        , -1.60224763,  0.63834112],\n",
        "       [ 1.        , -1.82625564, -1.2075414 ],\n",
        "       [ 1.        , -1.53903969,  0.3612943 ],\n",
        "       [ 1.        , -0.28210129,  1.0863683 ],\n",
        "       [ 1.        ,  0.69152826,  0.49337794],\n",
        "       [ 1.        , -1.06199728, -0.5357394 ],\n",
        "       [ 1.        , -0.23437234,  1.63818413],\n",
        "       [ 1.        ,  0.4845113 , -1.06373024],\n",
        "       [ 1.        ,  0.53998666,  1.14651105],\n",
        "       [ 1.        ,  0.97044832, -1.22709853]\n",
        "      ])\n",
        "\n",
        "Y = np.array([0., 0., 0., 1., 1., 0., 1., 1., 1., 1.])\n",
        "thetas = np.array([1.20754844, 4.00008645, 3.41594561])\n",
        "\n",
        "print(\"Para esses dados sua função precisa ter a resposta:\", 0.1417129370388809)\n",
        "print(\"Saida da sua função:\", funcaoCusto(X, Y, 10, thetas))"
      ],
      "execution_count": null,
      "outputs": [
        {
          "output_type": "stream",
          "name": "stdout",
          "text": [
            "Para esses dados sua função precisa ter a resposta: 0.1417129370388809\n",
            "Saida da sua função: 0.1417129370388809\n"
          ]
        }
      ]
    },
    {
      "cell_type": "markdown",
      "metadata": {
        "id": "6x2l8qKWTpxe"
      },
      "source": [
        "> Função `mapPolAll` para transformar as características em polinomias."
      ]
    },
    {
      "cell_type": "code",
      "metadata": {
        "id": "QA397V4DTpxf"
      },
      "source": [
        "#\n",
        "# Mapeamento de um par de características (x_i, x_j) \n",
        "#\n",
        "# X = conjunto de características\n",
        "# i = índice da característica x_i\n",
        "# j = índice da característica x_j\n",
        "# d = grau do polinômio\n",
        "#\n",
        "def mapPol(X, i, j, d):\n",
        "    x1 = X[:, i]\n",
        "    x2 = X[:, j]\n",
        "    x1.shape = (x1.size,1)\n",
        "    x2.shape = (x2.size,1)\n",
        "    Xnew = np.empty((x1.size, 0))\n",
        "    for n in range(2, d+1):    \n",
        "        for m in range(n+1):\n",
        "            Xnew = np.append(Xnew,x1**(n-m)*x2**m,axis=1)\n",
        "    return np.c_[X, Xnew]\n",
        "\n",
        "# \n",
        "# Mapeia todo os pares do conjunto X para um polinômio de dado grau d\n",
        "#\n",
        "# X = conjunto de características\n",
        "# d = grau do polinômio\n",
        "#\n",
        "def mapPolAll(X, d):\n",
        "    if(d <= 1):\n",
        "        return X\n",
        "    l = np.size(X, 1)\n",
        "    for i in range(1, l-1):\n",
        "        for j in range(i+1, l):\n",
        "            X = mapPol(X, i, j, d)\n",
        "    return X"
      ],
      "execution_count": null,
      "outputs": []
    },
    {
      "cell_type": "markdown",
      "metadata": {
        "id": "fSqXx91dTpxg"
      },
      "source": [
        "> Função para calcular a derivada da função de custo. \n",
        "<font size=2>$$\\mbox{derivadaFunçãoCusto}(X, Y, m,\\theta)=\\frac{1}{m}\\sum_{i=1}^m(\\mbox{hipotese}(x^{(i)})-y^{(i)})x_j^{(i)} $$</font>"
      ]
    },
    {
      "cell_type": "code",
      "metadata": {
        "id": "6E2JPFaSTpxh"
      },
      "source": [
        "#\n",
        "# Derivada da função custo\n",
        "#\n",
        "# X      = conjunto de características\n",
        "# Y      = rótulos\n",
        "# m      = quantidade de linhas de X\n",
        "# thetas = vetor de pesos\n",
        "#\n",
        "def derivadaDaFuncaoCusto(X, Y, m, thetas):\n",
        "    h = hipotese(X, thetas)  \n",
        "    return (h-Y).dot(X)/m"
      ],
      "execution_count": null,
      "outputs": []
    },
    {
      "cell_type": "markdown",
      "metadata": {
        "id": "PyV-yRy6Tpxh"
      },
      "source": [
        "> Algoritmo do gradiente descendente (método estocástico). Note que, a regra de atualização é idêntica a  da regressão linear. <br><br>\n",
        "\n",
        "| <br>&nbsp;&nbsp;&nbsp;&nbsp; SGD (Gradiente Descendente Estocástico) &nbsp;&nbsp;&nbsp;&nbsp; <br><br> |\n",
        "| ----- |\n",
        "| <br>&nbsp;&nbsp; $\\textbf{for } k = 1 : \\text{ Número_Epocas}$ <br> &nbsp;&nbsp;&nbsp;&nbsp;&nbsp;&nbsp; $\\textbf{for } j = 0 : n $<br> &nbsp;&nbsp;&nbsp;&nbsp;&nbsp;&nbsp;&nbsp;&nbsp;&nbsp;&nbsp; $\\text{Temp}_j = \\theta_j - \\alpha  \\dfrac{\\partial}{\\partial \\theta_j} J(\\theta)$ <br> &nbsp;&nbsp;&nbsp;&nbsp;&nbsp;&nbsp; $\\textbf{end}$ <br> &nbsp;&nbsp;&nbsp;&nbsp;&nbsp;&nbsp; $ \\theta=\\text{Temp} $<br> &nbsp;&nbsp; $\\textbf{end}$  <br><br> |\n",
        "| |\n",
        "\n",
        "onde $ x^{(i)} \\in \\mathbb{R}^n $ e $ y^{(i)} \\in \\{0, 1\\} $."
      ]
    },
    {
      "cell_type": "code",
      "metadata": {
        "ExecuteTime": {
          "end_time": "2018-08-09T05:45:08.727576Z",
          "start_time": "2018-08-09T05:45:08.054135Z"
        },
        "id": "BSOUz_nvTpxh"
      },
      "source": [
        "#\n",
        "# Algoritmo do Gradiente Descendente Estocastico (SGD)\n",
        "#\n",
        "# X         = conjunto de características\n",
        "# Y         = rótulos\n",
        "# m         = quantidade de linhas de X\n",
        "# numEpocas = número de épocas\n",
        "# alpha     = taxa de aprendizagem\n",
        "#\n",
        "def gradienteDescendente(X, Y, m, numEpocas, alpha):\n",
        "    n = np.size(X, 1)        \n",
        "    thetas = np.zeros(n)    \n",
        "    #thetas = np.random.normal(loc=0, scale=0.01, size=n)    \n",
        "    J_historico = []\n",
        "    \n",
        "    for iteracao in range(numEpocas):        \n",
        "        thetas = thetas - alpha * derivadaDaFuncaoCusto(X, Y, m, thetas)\n",
        "        J_historico = J_historico + [funcaoCusto(X, Y, m, thetas)]\n",
        "    \n",
        "    return [thetas, J_historico]\n"
      ],
      "execution_count": null,
      "outputs": []
    },
    {
      "cell_type": "markdown",
      "metadata": {
        "id": "9vbVEKw8Tpxi"
      },
      "source": [
        "> Função para realizar a predição\n",
        "$$ \\mbox{predição}(x, \\theta) =\\left\\{ \\begin{array}{cc}1, &\\text{se } \\mbox{hipotese}(x, \\theta)\\geq 0.5 \\\\ 0,&\\text{caso contrário}\\hspace{1.5cm} \\end{array}\\right. $$"
      ]
    },
    {
      "cell_type": "code",
      "metadata": {
        "id": "zHRYuIOoTpxi"
      },
      "source": [
        "#\n",
        "# Predição\n",
        "#\n",
        "# X = conjunto de características\n",
        "# thetas = vetor de pesos\n",
        "#\n",
        "def predicao(X, thetas):\n",
        "    return np.where(hipotese(X, thetas) >= 0.5, 1, 0)"
      ],
      "execution_count": null,
      "outputs": []
    },
    {
      "cell_type": "markdown",
      "metadata": {
        "id": "8Bgtv_I1Tpxi"
      },
      "source": [
        "> Função para plotar a fronteira de decisão em 2D"
      ]
    },
    {
      "cell_type": "code",
      "metadata": {
        "id": "LnecAGp8Tpxi"
      },
      "source": [
        "\n",
        "#\n",
        "# Plota fronteira de decisão em 2D\n",
        "#\n",
        "# x1               = Característica 1\n",
        "# x2               = Característica 2\n",
        "# Y                = rótulos\n",
        "# thetas           = vetor de pesos\n",
        "# preProcessamento = uma função para transformar os dados, ex: normalizar ou elevar\n",
        "#                    características\n",
        "# resolution       = resolução (incremento para construir o grid, valores muito baixos\n",
        "#                         podem gastar muita mémoria)\n",
        "#\n",
        "def plotDecisionRegions(x1, \n",
        "                        x2, \n",
        "                        Y, \n",
        "                        thetas, \n",
        "                        preProcessamento, \n",
        "                        resolution=0.05):\n",
        "    \n",
        "    classes = np.unique(Y)    \n",
        "    markers = (\"s\", \"x\", \"o\", \"^\", \"v\", \"^\", \"h\", \"H\")\n",
        "    colors = (\"red\", \"blue\", \"lightgreen\", \"gray\", \"cyan\", \"green\", \"yellow\", \"pink\")\n",
        "    cmap = ListedColormap(colors[:len(np.unique(Y))])\n",
        "        \n",
        "    # plot the decision surface\n",
        "    x1_min, x1_max = x1.min() - 1, x1.max() + 1\n",
        "    x2_min, x2_max = x2.min() - 1, x2.max() + 1\n",
        "    xx1, xx2 = np.meshgrid(np.arange(x1_min, x1_max, resolution), \n",
        "                           np.arange(x2_min, x2_max, resolution))\n",
        "        \n",
        "    zz = np.array([np.ones(np.size(xx1)), xx1.ravel(), xx2.ravel()]).T       \n",
        "    Z = predicao(preProcessamento(zz), thetas)    \n",
        "    Z = Z.reshape(xx1.shape)\n",
        "\n",
        "    plt.contourf(xx1, xx2, Z, alpha=0.3, cmap=cmap)\n",
        "    plt.xlim(xx1.min(), xx1.max())\n",
        "    plt.ylim(xx2.min(), xx2.max())\n",
        "\n",
        "    for idx, cl in enumerate(np.sort(np.unique(Y))):\n",
        "        plt.scatter(x=x1[Y == cl], \n",
        "                    y=x2[Y == cl],\n",
        "                    alpha=0.8,\n",
        "                    marker=markers[idx], label=classes[idx],\n",
        "                    edgecolor=\"black\")\n",
        "\n",
        "#\n",
        "# Calcula matriz de confusão binária\n",
        "#\n",
        "#             (conhecido)\n",
        "#               p    n\n",
        "#  (predito) p [tp  fp]\n",
        "#            n [fn  tn]\n",
        "#\n",
        "#  X      = conjunto de características\n",
        "#  Y      = rótulos\n",
        "#  thetas = vetor de pesos\n",
        "#\n",
        "def binaryConfusionMatrix(X, Y, thetas):\n",
        "    p = predicao(X, thetas)\n",
        "    \n",
        "    pos = np.where(Y == 1)\n",
        "    neg = np.where(Y == 0)\n",
        "    \n",
        "    tp = np.size(np.where(p[pos] == 1))\n",
        "    fp = np.size(np.where(p[pos] == 0))\n",
        "    \n",
        "    tn = np.size(np.where(p[neg] == 0))\n",
        "    fn = np.size(np.where(p[neg] == 1))\n",
        "    \n",
        "    return np.array([[tp, fp], [fn, tn]])\n",
        "\n",
        "#\n",
        "# Calcula acurácia do classificador utilizando\n",
        "#\n",
        "#  X      = conjunto de características\n",
        "#  Y      = rótulos\n",
        "#  thetas = vetor de pesos\n",
        "#\n",
        "def acuracia(X, Y, thetas):\n",
        "    M = binaryConfusionMatrix(X, Y, thetas)\n",
        "    return 100 * (M.diagonal().sum()/M.sum())"
      ],
      "execution_count": null,
      "outputs": []
    },
    {
      "cell_type": "markdown",
      "metadata": {
        "id": "Jj2SOhp9Tpxj"
      },
      "source": [
        "# Procedimento principal"
      ]
    },
    {
      "cell_type": "markdown",
      "metadata": {
        "id": "vtRIpbHsTpxj"
      },
      "source": [
        "### Carregando os dados"
      ]
    },
    {
      "cell_type": "code",
      "metadata": {
        "colab": {
          "base_uri": "https://localhost:8080/"
        },
        "id": "6fBaJDX1WqGV",
        "outputId": "8dd38850-448d-4e5b-ea8a-bbcef6b25499"
      },
      "source": [
        "!wget \"https://www.dropbox.com/s/efaqmq9iyx2topn/dados3.csv\""
      ],
      "execution_count": null,
      "outputs": [
        {
          "output_type": "stream",
          "name": "stdout",
          "text": [
            "--2021-10-09 17:16:31--  https://www.dropbox.com/s/efaqmq9iyx2topn/dados3.csv\n",
            "Resolving www.dropbox.com (www.dropbox.com)... 162.125.5.18, 2620:100:601d:18::a27d:512\n",
            "Connecting to www.dropbox.com (www.dropbox.com)|162.125.5.18|:443... connected.\n",
            "HTTP request sent, awaiting response... 301 Moved Permanently\n",
            "Location: /s/raw/efaqmq9iyx2topn/dados3.csv [following]\n",
            "--2021-10-09 17:16:31--  https://www.dropbox.com/s/raw/efaqmq9iyx2topn/dados3.csv\n",
            "Reusing existing connection to www.dropbox.com:443.\n",
            "HTTP request sent, awaiting response... 302 Found\n",
            "Location: https://uc804a94b958fe9728b3ff5d456e.dl.dropboxusercontent.com/cd/0/inline/BXvDh4nSpOZ5O08O_yJ0aCwf9W-XuehS9q1rLpkAQxuuOL_6R3Dkx9fmlZpgmNs8lQDZfw3iy4pJt6g6Jx4PsXnQB6wyF9O_roS0lhDURWVmz42hVoVbCNhdbJkbS0h77E-T9XkqYRO60UVdDnGQoiDk/file# [following]\n",
            "--2021-10-09 17:16:32--  https://uc804a94b958fe9728b3ff5d456e.dl.dropboxusercontent.com/cd/0/inline/BXvDh4nSpOZ5O08O_yJ0aCwf9W-XuehS9q1rLpkAQxuuOL_6R3Dkx9fmlZpgmNs8lQDZfw3iy4pJt6g6Jx4PsXnQB6wyF9O_roS0lhDURWVmz42hVoVbCNhdbJkbS0h77E-T9XkqYRO60UVdDnGQoiDk/file\n",
            "Resolving uc804a94b958fe9728b3ff5d456e.dl.dropboxusercontent.com (uc804a94b958fe9728b3ff5d456e.dl.dropboxusercontent.com)... 162.125.5.15, 2620:100:601d:15::a27d:50f\n",
            "Connecting to uc804a94b958fe9728b3ff5d456e.dl.dropboxusercontent.com (uc804a94b958fe9728b3ff5d456e.dl.dropboxusercontent.com)|162.125.5.15|:443... connected.\n",
            "HTTP request sent, awaiting response... 200 OK\n",
            "Length: 3775 (3.7K) [text/plain]\n",
            "Saving to: ‘dados3.csv.1’\n",
            "\n",
            "dados3.csv.1        100%[===================>]   3.69K  --.-KB/s    in 0s      \n",
            "\n",
            "2021-10-09 17:16:32 (441 MB/s) - ‘dados3.csv.1’ saved [3775/3775]\n",
            "\n"
          ]
        }
      ]
    },
    {
      "cell_type": "markdown",
      "metadata": {
        "id": "rMVF7rodE6NF"
      },
      "source": [
        "> Função para separar os dados em dois conjuntos: **treinamento** e **teste**"
      ]
    },
    {
      "cell_type": "code",
      "metadata": {
        "id": "2U_7WA7l8aHb"
      },
      "source": [
        "# Função para separar os dados em dois conjuntos: treinamento e teste\n",
        "def train_test_split(data, test_size=0.3):       \n",
        "  np.random.shuffle(data.values)\n",
        "  limiar = int((len(dados)+1) * (1 - test_size)) \n",
        "  train_data = data[ : limiar] \n",
        "  test_data = data[limiar : ]\n",
        "  \n",
        "  X_train = train_data.values[:, 0:-1]\n",
        "  Y_train = train_data.values[:, -1]\n",
        "\n",
        "  X_test = test_data.values[:, 0:-1]\n",
        "  Y_test = test_data.values[:, -1]\n",
        "\n",
        "  return X_train, X_test, Y_train, Y_test\n",
        "\n"
      ],
      "execution_count": null,
      "outputs": []
    },
    {
      "cell_type": "markdown",
      "metadata": {
        "id": "x7QGn-OSFCZ1"
      },
      "source": [
        "## Procedimentos para o treinamento do algoritmo"
      ]
    },
    {
      "cell_type": "code",
      "metadata": {
        "ExecuteTime": {
          "end_time": "2018-08-09T05:45:04.941587Z",
          "start_time": "2018-08-09T05:45:04.929005Z"
        },
        "colab": {
          "base_uri": "https://localhost:8080/",
          "height": 1000
        },
        "id": "uaLaG7l5Tpxj",
        "outputId": "3d2c2e59-efe2-45e0-dea8-224e19473a19"
      },
      "source": [
        "# carregando arquivos de dados\n",
        "dados = pd.read_csv(\"dados3.csv\", sep=',', header=None, dtype=np.float64)\n",
        "\n",
        "# conjunto de dados\n",
        "X_train, X_test, Y_train, Y_test = train_test_split(dados)\n",
        "print(X_train)\n",
        "m_train = np.size(X_train, 0)\n",
        "m_test = np.size(X_test, 0)\n",
        "\n",
        "# adicionando o bias\n",
        "X_train = np.c_[ np.ones(m_train), X_train ] \n",
        "X_test = np.c_[ np.ones(m_test), X_test ] \n",
        "\n",
        "# Normalizando os dados e mapeamento polinomial\n",
        "grauPolinomio = 2\n",
        "X_train_poly = mapPolAll(np.copy(X_train), grauPolinomio) #mapeamento polinomial\n",
        "print(X_train_poly)\n",
        "X_test_poly = mapPolAll(np.copy(X_test), grauPolinomio) #mapeamento polinomial\n",
        "[X_train_poly, mean, std] = zscore(X_train_poly)\n",
        "[X_test_poly, mean, std] = zscore(X_test_poly, mean, std) #note que aqui estamos usando a mesma média e desvio padrão dos dados de treinamento\n",
        "\n",
        "\n",
        "#########################################\n",
        "# Executando o gradiente descendente \n",
        "#####=#####Encontre os parâmetros########\n",
        "taxa_de_aprendizado = 0.1\n",
        "numEpocas = 60000\n",
        "(thetas, J_historico) = gradienteDescendente(X_train_poly, Y_train, m_train, numEpocas, taxa_de_aprendizado)\n",
        "#########################################\n",
        "\n",
        "\n",
        "##Impressoes\n",
        "print('Acuracia no conjunto de treinamento:', acuracia(X_train_poly, Y_train, thetas))\n",
        "\n",
        "\n",
        "# Plotando evolução do custo \n",
        "plt.figure(figsize=(12,10))\n",
        "plt.plot(range(numEpocas), J_historico, color='blue', label=r'Função de custo J')\n",
        "plt.xlabel(r'Número de Épocas', fontsize=18)\n",
        "plt.ylabel(r'Custo', fontsize=18)\n",
        "plt.title(r'Evolução da função de custo: $J(\\theta)=-\\frac{1}{m}\\sum_{i=1}^m y^{(i)}\\log(h_\\theta(x^{(i)})) + (1-y^{(i)})\\log(1-h_\\theta(x^{(i)})) $'+'\\n', \n",
        "          fontsize=18)\n",
        "plt.legend()\n",
        "plt.show()\n",
        "\n",
        "\n",
        "\n",
        "# Plotando fronteira de decisão\n",
        "# função de pré processamento necessária\n",
        "def preProcessamento(X, mean=mean, std=std, d=grauPolinomio):\n",
        "    X = mapPolAll(X, d=d)\n",
        "    [X, _, _] = zscore(X, mean, std)\n",
        "    return X\n",
        "\n",
        "plt.figure(figsize=(12,10))\n",
        "plt.title(r'Fronteira de decisão'+ '\\n', fontsize=18)\n",
        "plotDecisionRegions(X_train[:, 1], X_train[:, 2], Y_train, thetas, preProcessamento)\n",
        "plt.xlabel(r'$x_1$', fontsize=18)\n",
        "plt.ylabel(r'$x_2$', fontsize=18);\n",
        "\n"
      ],
      "execution_count": null,
      "outputs": [
        {
          "output_type": "stream",
          "name": "stdout",
          "text": [
            "[[69.36458876 97.71869196]\n",
            " [32.72283304 43.30717306]\n",
            " [71.79646206 78.45356225]\n",
            " [64.17698887 80.90806059]\n",
            " [97.64563396 68.86157272]\n",
            " [60.18259939 86.3085521 ]\n",
            " [69.07014406 52.74046973]\n",
            " [68.46852179 85.5943071 ]\n",
            " [30.28671077 43.89499752]\n",
            " [61.37928945 72.80788731]\n",
            " [44.66826172 66.45008615]\n",
            " [85.40451939 57.05198398]\n",
            " [52.34800399 60.76950526]\n",
            " [51.04775177 45.82270146]\n",
            " [42.26170081 87.10385094]\n",
            " [64.03932042 78.03168802]\n",
            " [50.53478829 48.85581153]\n",
            " [90.54671411 43.39060181]\n",
            " [50.28649612 49.80453881]\n",
            " [34.52451385 60.39634246]\n",
            " [51.54772027 46.85629026]\n",
            " [67.31925747 66.58935318]\n",
            " [75.47770201 90.424539  ]\n",
            " [94.09433113 77.15910509]\n",
            " [75.39561147 85.75993667]\n",
            " [55.48216114 35.57070347]\n",
            " [67.94685548 46.67857411]\n",
            " [34.21206098 44.2095286 ]\n",
            " [35.28611282 47.02051395]\n",
            " [77.92409145 68.97235999]\n",
            " [49.07256322 51.88321182]\n",
            " [62.0730638  96.76882412]\n",
            " [83.48916274 48.3802858 ]\n",
            " [99.27252693 60.999031  ]\n",
            " [76.97878373 47.57596365]\n",
            " [84.43281996 43.53339331]\n",
            " [61.83020602 50.25610789]\n",
            " [74.78925296 41.57341523]\n",
            " [82.36875376 40.61825516]\n",
            " [53.97105215 89.20735014]\n",
            " [47.26426911 88.475865  ]\n",
            " [54.63510555 52.21388588]\n",
            " [76.0987867  87.42056972]\n",
            " [79.94481794 74.16311935]\n",
            " [90.44855097 87.50879176]\n",
            " [99.8278578  72.36925193]\n",
            " [80.19018075 44.82162893]\n",
            " [80.27957401 92.11606081]\n",
            " [75.01365839 30.60326323]\n",
            " [91.5649745  88.69629255]\n",
            " [82.22666158 42.71987854]\n",
            " [32.57720017 95.59854761]\n",
            " [75.02474557 46.55401354]\n",
            " [45.08327748 56.31637178]\n",
            " [57.23870632 59.51428198]\n",
            " [80.366756   90.9601479 ]\n",
            " [82.30705337 76.4819633 ]\n",
            " [88.91389642 69.8037889 ]\n",
            " [97.77159928 86.72782233]\n",
            " [55.34001756 64.93193801]\n",
            " [94.83450672 45.6943068 ]\n",
            " [78.63542435 96.64742717]\n",
            " [77.19303493 70.4582    ]\n",
            " [94.44336777 65.56892161]\n",
            " [52.10797973 63.12762377]\n",
            " [42.07545454 78.844786  ]\n",
            " [35.84740877 72.90219803]\n",
            " [33.91550011 98.86943574]\n",
            " [79.03273605 75.34437644]\n",
            " [93.1143888  38.80067034]]\n",
            "[[1.00000000e+00 6.93645888e+01 9.77186920e+01 4.81144617e+03\n",
            "  6.77821688e+03 9.54894276e+03]\n",
            " [1.00000000e+00 3.27228330e+01 4.33071731e+01 1.07078380e+03\n",
            "  1.41713339e+03 1.87551124e+03]\n",
            " [1.00000000e+00 7.17964621e+01 7.84535622e+01 5.15473196e+03\n",
            "  5.63268821e+03 6.15496143e+03]\n",
            " [1.00000000e+00 6.41769889e+01 8.09080606e+01 4.11868590e+03\n",
            "  5.19243570e+03 6.54611427e+03]\n",
            " [1.00000000e+00 9.76456340e+01 6.88615727e+01 9.53466983e+03\n",
            "  6.72403192e+03 4.74191620e+03]\n",
            " [1.00000000e+00 6.01825994e+01 8.63085521e+01 3.62194527e+03\n",
            "  5.19427301e+03 7.44916616e+03]\n",
            " [1.00000000e+00 6.90701441e+01 5.27404697e+01 4.77068480e+03\n",
            "  3.64279184e+03 2.78155715e+03]\n",
            " [1.00000000e+00 6.84685218e+01 8.55943071e+01 4.68793848e+03\n",
            "  5.86051568e+03 7.32638541e+03]\n",
            " [1.00000000e+00 3.02867108e+01 4.38949975e+01 9.17284849e+02\n",
            "  1.32943509e+03 1.92677081e+03]\n",
            " [1.00000000e+00 6.13792894e+01 7.28078873e+01 3.76741717e+03\n",
            "  4.46889639e+03 5.30098846e+03]\n",
            " [1.00000000e+00 4.46682617e+01 6.64500861e+01 1.99525361e+03\n",
            "  2.96820984e+03 4.41561395e+03]\n",
            " [1.00000000e+00 8.54045194e+01 5.70519840e+01 7.29393193e+03\n",
            "  4.87249727e+03 3.25492888e+03]\n",
            " [1.00000000e+00 5.23480040e+01 6.07695053e+01 2.74031352e+03\n",
            "  3.18116230e+03 3.69293277e+03]\n",
            " [1.00000000e+00 5.10477518e+01 4.58227015e+01 2.60587296e+03\n",
            "  2.33914589e+03 2.09971997e+03]\n",
            " [1.00000000e+00 4.22617008e+01 8.71038509e+01 1.78605136e+03\n",
            "  3.68115689e+03 7.58708085e+03]\n",
            " [1.00000000e+00 6.40393204e+01 7.80316880e+01 4.10103456e+03\n",
            "  4.99709627e+03 6.08894434e+03]\n",
            " [1.00000000e+00 5.05347883e+01 4.88558115e+01 2.55376483e+03\n",
            "  2.46891809e+03 2.38689032e+03]\n",
            " [1.00000000e+00 9.05467141e+01 4.33906018e+01 8.19870744e+03\n",
            "  3.92887642e+03 1.88274433e+03]\n",
            " [1.00000000e+00 5.02864961e+01 4.98045388e+01 2.52873169e+03\n",
            "  2.50449575e+03 2.48049209e+03]\n",
            " [1.00000000e+00 3.45245139e+01 6.03963425e+01 1.19194206e+03\n",
            "  2.08515436e+03 3.64771818e+03]\n",
            " [1.00000000e+00 5.15477203e+01 4.68562903e+01 2.65716746e+03\n",
            "  2.41533494e+03 2.19551194e+03]\n",
            " [1.00000000e+00 6.73192575e+01 6.65893532e+01 4.53188243e+03\n",
            "  4.48274581e+03 4.43414196e+03]\n",
            " [1.00000000e+00 7.54777020e+01 9.04245390e+01 5.69688350e+03\n",
            "  6.82503641e+03 8.17659725e+03]\n",
            " [1.00000000e+00 9.40943311e+01 7.71591051e+01 8.85374315e+03\n",
            "  7.26023438e+03 5.95352750e+03]\n",
            " [1.00000000e+00 7.53956115e+01 8.57599367e+01 5.68449823e+03\n",
            "  6.46592286e+03 7.35476674e+03]\n",
            " [1.00000000e+00 5.54821611e+01 3.55707035e+01 3.07827020e+03\n",
            "  1.97353950e+03 1.26527495e+03]\n",
            " [1.00000000e+00 6.79468555e+01 4.66785741e+01 4.61677517e+03\n",
            "  3.17166233e+03 2.17888928e+03]\n",
            " [1.00000000e+00 3.42120610e+01 4.42095286e+01 1.17046512e+03\n",
            "  1.51249909e+03 1.95448242e+03]\n",
            " [1.00000000e+00 3.52861128e+01 4.70205139e+01 1.24510976e+03\n",
            "  1.65917116e+03 2.21092873e+03]\n",
            " [1.00000000e+00 7.79240915e+01 6.89723600e+01 6.07216403e+03\n",
            "  5.37460849e+03 4.75718644e+03]\n",
            " [1.00000000e+00 4.90725632e+01 5.18832118e+01 2.40811646e+03\n",
            "  2.54604219e+03 2.69186767e+03]\n",
            " [1.00000000e+00 6.20730638e+01 9.67688241e+01 3.85306525e+03\n",
            "  6.00673739e+03 9.36420532e+03]\n",
            " [1.00000000e+00 8.34891627e+01 4.83802858e+01 6.97044030e+03\n",
            "  4.03922955e+03 2.34065205e+03]\n",
            " [1.00000000e+00 9.92725269e+01 6.09990310e+01 9.85503460e+03\n",
            "  6.05552795e+03 3.72088178e+03]\n",
            " [1.00000000e+00 7.69787837e+01 4.75759636e+01 5.92573314e+03\n",
            "  3.66233982e+03 2.26347232e+03]\n",
            " [1.00000000e+00 8.44328200e+01 4.35333933e+01 7.12890109e+03\n",
            "  3.67564716e+03 1.89515633e+03]\n",
            " [1.00000000e+00 6.18302060e+01 5.02561079e+01 3.82297438e+03\n",
            "  3.10734550e+03 2.52567638e+03]\n",
            " [1.00000000e+00 7.47892530e+01 4.15734152e+01 5.59343236e+03\n",
            "  3.10924467e+03 1.72834885e+03]\n",
            " [1.00000000e+00 8.23687538e+01 4.06182552e+01 6.78461160e+03\n",
            "  3.34567506e+03 1.64984265e+03]\n",
            " [1.00000000e+00 5.39710521e+01 8.92073501e+01 2.91287447e+03\n",
            "  4.81461455e+03 7.95795132e+03]\n",
            " [1.00000000e+00 4.72642691e+01 8.84758650e+01 2.23391113e+03\n",
            "  4.18174709e+03 7.82797869e+03]\n",
            " [1.00000000e+00 5.46351056e+01 5.22138859e+01 2.98499476e+03\n",
            "  2.85271117e+03 2.72628988e+03]\n",
            " [1.00000000e+00 7.60987867e+01 8.74205697e+01 5.79102534e+03\n",
            "  6.65259929e+03 7.64235601e+03]\n",
            " [1.00000000e+00 7.99448179e+01 7.41631194e+01 6.39117392e+03\n",
            "  5.92895707e+03 5.50016827e+03]\n",
            " [1.00000000e+00 9.04485510e+01 8.75087918e+01 8.18094037e+03\n",
            "  7.91504341e+03 7.65778864e+03]\n",
            " [1.00000000e+00 9.98278578e+01 7.23692519e+01 9.96560119e+03\n",
            "  7.22446739e+03 5.23730863e+03]\n",
            " [1.00000000e+00 8.01901808e+01 4.48216289e+01 6.43046509e+03\n",
            "  3.59425453e+03 2.00897842e+03]\n",
            " [1.00000000e+00 8.02795740e+01 9.21160608e+01 6.44481000e+03\n",
            "  7.39503812e+03 8.48536866e+03]\n",
            " [1.00000000e+00 7.50136584e+01 3.06032632e+01 5.62704894e+03\n",
            "  2.29566273e+03 9.36559721e+02]\n",
            " [1.00000000e+00 9.15649745e+01 8.86962925e+01 8.38414455e+03\n",
            "  8.12147376e+03 7.86703231e+03]\n",
            " [1.00000000e+00 8.22266616e+01 4.27198785e+01 6.76122387e+03\n",
            "  3.51271300e+03 1.82498802e+03]\n",
            " [1.00000000e+00 3.25772002e+01 9.55985476e+01 1.06127397e+03\n",
            "  3.11433302e+03 9.13908231e+03]\n",
            " [1.00000000e+00 7.50247456e+01 4.65540135e+01 5.62871245e+03\n",
            "  3.49270302e+03 2.16727618e+03]\n",
            " [1.00000000e+00 4.50832775e+01 5.63163718e+01 2.03250191e+03\n",
            "  2.53892662e+03 3.17153373e+03]\n",
            " [1.00000000e+00 5.72387063e+01 5.95142820e+01 3.27626950e+03\n",
            "  3.40652051e+03 3.54194976e+03]\n",
            " [1.00000000e+00 8.03667560e+01 9.09601479e+01 6.45881547e+03\n",
            "  7.31017201e+03 8.27374851e+03]\n",
            " [1.00000000e+00 8.23070534e+01 7.64819633e+01 6.77445104e+03\n",
            "  6.29500504e+03 5.84949071e+03]\n",
            " [1.00000000e+00 8.89138964e+01 6.98037889e+01 7.90568098e+03\n",
            "  6.20652686e+03 4.87256894e+03]\n",
            " [1.00000000e+00 9.77715993e+01 8.67278223e+01 9.55928563e+03\n",
            "  8.47951789e+03 7.52171517e+03]\n",
            " [1.00000000e+00 5.53400176e+01 6.49319380e+01 3.06251754e+03\n",
            "  3.59333459e+03 4.21615657e+03]\n",
            " [1.00000000e+00 9.48345067e+01 4.56943068e+01 8.99358367e+03\n",
            "  4.33339705e+03 2.08796967e+03]\n",
            " [1.00000000e+00 7.86354243e+01 9.66474272e+01 6.18352996e+03\n",
            "  7.59991145e+03 9.34072518e+03]\n",
            " [1.00000000e+00 7.71930349e+01 7.04582000e+01 5.95876464e+03\n",
            "  5.43888229e+03 4.96435795e+03]\n",
            " [1.00000000e+00 9.44433678e+01 6.55689216e+01 8.91954972e+03\n",
            "  6.19254978e+03 4.29928348e+03]\n",
            " [1.00000000e+00 5.21079797e+01 6.31276238e+01 2.71524155e+03\n",
            "  3.28945294e+03 3.98509688e+03]\n",
            " [1.00000000e+00 4.20754545e+01 7.88447860e+01 1.77034387e+03\n",
            "  3.31743021e+03 6.21650028e+03]\n",
            " [1.00000000e+00 3.58474088e+01 7.29021980e+01 1.28503672e+03\n",
            "  2.61335489e+03 5.31473048e+03]\n",
            " [1.00000000e+00 3.39155001e+01 9.88694357e+01 1.15026115e+03\n",
            "  3.35320636e+03 9.77516532e+03]\n",
            " [1.00000000e+00 7.90327361e+01 7.53443764e+01 6.24617337e+03\n",
            "  5.95467222e+03 5.67677506e+03]\n",
            " [1.00000000e+00 9.31143888e+01 3.88006703e+01 8.67028940e+03\n",
            "  3.61290070e+03 1.50549202e+03]]\n"
          ]
        },
        {
          "output_type": "stream",
          "name": "stderr",
          "text": [
            "/usr/local/lib/python3.7/dist-packages/ipykernel_launcher.py:14: RuntimeWarning: divide by zero encountered in log\n",
            "  \n"
          ]
        },
        {
          "output_type": "stream",
          "name": "stdout",
          "text": [
            "Acuracia no conjunto de treinamento: 100.0\n"
          ]
        },
        {
          "output_type": "display_data",
          "data": {
            "image/png": "[encoded data removed]",
            "text/plain": [
              "<Figure size 864x720 with 1 Axes>"
            ]
          },
          "metadata": {
            "needs_background": "light"
          }
        },
        {
          "output_type": "display_data",
          "data": {
            "image/png": "[encoded data removed]",
            "text/plain": [
              "<Figure size 864x720 with 1 Axes>"
            ]
          },
          "metadata": {
            "needs_background": "light"
          }
        }
      ]
    },
    {
      "cell_type": "markdown",
      "metadata": {
        "id": "lFXNhQGLFLFx"
      },
      "source": [
        "## Procedimentos para avaliação do classificador com o conjunto de teste"
      ]
    },
    {
      "cell_type": "code",
      "metadata": {
        "id": "33emX7sUTpxk",
        "colab": {
          "base_uri": "https://localhost:8080/",
          "height": 672
        },
        "outputId": "9abdb4d9-0676-4ef6-d67c-52ba810b6182"
      },
      "source": [
        "##Impressoes\n",
        "print('Acuracia no conjunto de teste:', acuracia(X_test_poly, Y_test, thetas))\n",
        "\n",
        "plt.figure(figsize=(12,10))\n",
        "plt.title(r'Fronteira de decisão'+ '\\n', fontsize=18)\n",
        "plotDecisionRegions(X_test[:, 1], X_test[:, 2], Y_test, thetas, preProcessamento)\n",
        "plt.xlabel(r'$x_1$', fontsize=18)\n",
        "plt.ylabel(r'$x_2$', fontsize=18);"
      ],
      "execution_count": null,
      "outputs": [
        {
          "output_type": "stream",
          "name": "stdout",
          "text": [
            "Acuracia no conjunto de teste: 100.0\n"
          ]
        },
        {
          "output_type": "display_data",
          "data": {
            "image/png": "[encoded data removed]",
            "text/plain": [
              "<Figure size 864x720 with 1 Axes>"
            ]
          },
          "metadata": {
            "needs_background": "light"
          }
        }
      ]
    }
  ]
}